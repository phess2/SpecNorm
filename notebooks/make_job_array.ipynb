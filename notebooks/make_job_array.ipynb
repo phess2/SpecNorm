{
 "cells": [
  {
   "cell_type": "code",
   "execution_count": 1,
   "metadata": {},
   "outputs": [],
   "source": [
    "import pickle\n",
    "import os"
   ]
  },
  {
   "cell_type": "code",
   "execution_count": 7,
   "metadata": {},
   "outputs": [],
   "source": [
    "config_directory = 'configs'"
   ]
  },
  {
   "cell_type": "code",
   "execution_count": 10,
   "metadata": {},
   "outputs": [],
   "source": [
    "configs = []\n",
    "for filename in os.listdir(config_directory):\n",
    "    if 'mlp' in filename:\n",
    "        configs.append(os.path.join(config_directory, filename))"
   ]
  },
  {
   "cell_type": "code",
   "execution_count": 11,
   "metadata": {},
   "outputs": [
    {
     "data": {
      "text/plain": [
       "['configs/mlp_10_4k_baseline.yaml',\n",
       " 'configs/mlp_10_4k_frob.yaml',\n",
       " 'configs/mlp_10_4k_spec.yaml',\n",
       " 'configs/mlp_20_8k_baseline.yaml',\n",
       " 'configs/mlp_20_8k_frob.yaml',\n",
       " 'configs/mlp_20_8k_spec.yaml',\n",
       " 'configs/mlp_5_2k_baseline.yaml',\n",
       " 'configs/mlp_5_2k_frob.yaml',\n",
       " 'configs/mlp_5_2k_spec.yaml']"
      ]
     },
     "execution_count": 11,
     "metadata": {},
     "output_type": "execute_result"
    }
   ],
   "source": [
    "configs"
   ]
  },
  {
   "cell_type": "code",
   "execution_count": 12,
   "metadata": {},
   "outputs": [],
   "source": [
    "with open('model_configs_12_9.pkl', 'wb') as f:\n",
    "    pickle.dump(configs, f)"
   ]
  }
 ],
 "metadata": {
  "kernelspec": {
   "display_name": "Python 3 (ipykernel)",
   "language": "python",
   "name": "python3"
  }
 },
 "nbformat": 4,
 "nbformat_minor": 2
}
