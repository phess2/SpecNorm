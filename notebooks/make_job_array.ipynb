{
 "cells": [
  {
   "cell_type": "code",
   "execution_count": 1,
   "metadata": {},
   "outputs": [],
   "source": [
    "import pickle\n",
    "import os"
   ]
  },
  {
   "cell_type": "code",
   "execution_count": 2,
   "metadata": {},
   "outputs": [],
   "source": [
    "config_directory = 'configs'"
   ]
  },
  {
   "cell_type": "code",
   "execution_count": 3,
   "metadata": {},
   "outputs": [],
   "source": [
    "configs = []\n",
    "for filename in os.listdir(config_directory):\n",
    "    if '20' in filename or '18' in filename:\n",
    "        pass\n",
    "    else:\n",
    "        configs.append(os.path.join(config_directory, filename))"
   ]
  },
  {
   "cell_type": "code",
   "execution_count": 4,
   "metadata": {},
   "outputs": [
    {
     "data": {
      "text/plain": [
       "['configs/mlp_5_2k_baseline.yaml',\n",
       " 'configs/mlp_5_2k_frob.yaml',\n",
       " 'configs/mlp_5_2k_spec.yaml',\n",
       " 'configs/mlp_7_4k_baseline.yaml',\n",
       " 'configs/mlp_7_4k_frob.yaml',\n",
       " 'configs/mlp_7_4k_spec.yaml',\n",
       " 'configs/resnet34_baseline.yaml',\n",
       " 'configs/resnet34_frob.yaml',\n",
       " 'configs/resnet34_spec.yaml',\n",
       " 'configs/resnet50_baseline.yaml',\n",
       " 'configs/resnet50_frob.yaml',\n",
       " 'configs/resnet50_spec.yaml']"
      ]
     },
     "execution_count": 4,
     "metadata": {},
     "output_type": "execute_result"
    }
   ],
   "source": [
    "configs"
   ]
  },
  {
   "cell_type": "code",
   "execution_count": 5,
   "metadata": {},
   "outputs": [],
   "source": [
    "with open('model_configs_12_11.pkl', 'wb') as f:\n",
    "    pickle.dump(configs, f)"
   ]
  }
 ],
 "metadata": {
  "kernelspec": {
   "display_name": "Python 3 (ipykernel)",
   "language": "python",
   "name": "python3"
  },
  "language_info": {
   "codemirror_mode": {
    "name": "ipython",
    "version": 3
   },
   "file_extension": ".py",
   "mimetype": "text/x-python",
   "name": "python",
   "nbconvert_exporter": "python",
   "pygments_lexer": "ipython3",
   "version": "3.11.5"
  }
 },
 "nbformat": 4,
 "nbformat_minor": 2
}
